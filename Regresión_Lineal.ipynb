{
  "nbformat": 4,
  "nbformat_minor": 0,
  "metadata": {
    "colab": {
      "name": "Regresión Lineal.ipynb",
      "provenance": [],
      "authorship_tag": "ABX9TyNkxnn0h/JVm4zuBfQYIHrj",
      "include_colab_link": true
    },
    "kernelspec": {
      "name": "python3",
      "display_name": "Python 3"
    }
  },
  "cells": [
    {
      "cell_type": "markdown",
      "metadata": {
        "id": "view-in-github",
        "colab_type": "text"
      },
      "source": [
        "<a href=\"https://colab.research.google.com/github/Claudio9701/Intro-to-ML-Regression-Models/blob/main/Regresi%C3%B3n_Lineal.ipynb\" target=\"_parent\"><img src=\"https://colab.research.google.com/assets/colab-badge.svg\" alt=\"Open In Colab\"/></a>"
      ]
    },
    {
      "cell_type": "code",
      "metadata": {
        "id": "heSLrjwsQsok"
      },
      "source": [
        "import matplotlib.pyplot as plt # Plotting\n",
        "import numpy as np # Linear algebra\n",
        "import pandas as pd # Data Handling\n",
        "import sklearn as sk # Machine Learning\n",
        "from sklearn.datasets import load_boston # https://scikit-learn.org/stable/datasets/index.html"
      ],
      "execution_count": null,
      "outputs": []
    },
    {
      "cell_type": "markdown",
      "metadata": {
        "id": "Qs8zaPeTkfj1"
      },
      "source": [
        "## Regresión Linear\n",
        "\n",
        "Haremos una implementación simple de regresión lineal y la aplicaremos a un dataset de prueba para un caso univariado y otro multivariado.\n",
        "\n",
        "### Pasos a seguir\n",
        "\n",
        "1. Descarga de datos\n",
        "2. Visualización\n",
        "3. Implementación\n",
        "4. Aplicación\n",
        "5. Evaluación e Interpretación"
      ]
    },
    {
      "cell_type": "code",
      "metadata": {
        "id": "o8UMoAPUXnmv"
      },
      "source": [
        "X, y = load_boston(return_X_y=True)"
      ],
      "execution_count": null,
      "outputs": []
    },
    {
      "cell_type": "code",
      "metadata": {
        "id": "OYiT8XvEXzv6",
        "outputId": "c7849fe0-d950-49f8-854b-7794b298fcdb",
        "colab": {
          "base_uri": "https://localhost:8080/",
          "height": 34
        }
      },
      "source": [
        "X.shape, y.shape"
      ],
      "execution_count": null,
      "outputs": [
        {
          "output_type": "execute_result",
          "data": {
            "text/plain": [
              "((506, 13), (506,))"
            ]
          },
          "metadata": {
            "tags": []
          },
          "execution_count": 51
        }
      ]
    },
    {
      "cell_type": "code",
      "metadata": {
        "id": "SRYOng0jYpLc",
        "outputId": "8b656533-abce-442e-dbe6-3fe298a3f114",
        "colab": {
          "base_uri": "https://localhost:8080/",
          "height": 281
        }
      },
      "source": [
        "plt.scatter(x=X[:100,5], y=y[:100])\n",
        "plt.xlabel('Cantidad de habitaciones')\n",
        "plt.ylabel('Valor Medio (miles de USD)')\n",
        "plt.show()"
      ],
      "execution_count": null,
      "outputs": [
        {
          "output_type": "display_data",
          "data": {
            "image/png": "[encoded data removed]",
            "text/plain": [
              "<Figure size 432x288 with 1 Axes>"
            ]
          },
          "metadata": {
            "tags": [],
            "needs_background": "light"
          }
        }
      ]
    },
    {
      "cell_type": "code",
      "metadata": {
        "id": "aVvlhBXsamq0"
      },
      "source": [
        "X_1 = np.column_stack((X[:100,5], np.ones_like(X[:100,5])))\n",
        "y_1 = y[:100]"
      ],
      "execution_count": null,
      "outputs": []
    },
    {
      "cell_type": "markdown",
      "metadata": {
        "id": "2nqZa2uAmZmx"
      },
      "source": [
        "$$\\beta = (X^TX)^-1 X^T Y$$"
      ]
    },
    {
      "cell_type": "code",
      "metadata": {
        "id": "g_WTXucHZyTU"
      },
      "source": [
        "beta = np.linalg.inv(X_1.T.dot(X_1)).dot(X_1.T).dot(y_1)"
      ],
      "execution_count": null,
      "outputs": []
    },
    {
      "cell_type": "code",
      "metadata": {
        "id": "zb8BeVIncXE1"
      },
      "source": [
        "y_1_hat = X_1.dot(beta)"
      ],
      "execution_count": null,
      "outputs": []
    },
    {
      "cell_type": "code",
      "metadata": {
        "id": "s17cQxehdFRG",
        "outputId": "8b4a0bac-ac37-4532-9aa0-c7a52698cb4a",
        "colab": {
          "base_uri": "https://localhost:8080/",
          "height": 281
        }
      },
      "source": [
        "plt.scatter(x=X_1[:,0], y=y_1, label='real')\n",
        "plt.plot(X_1[:,0], y_1_hat, color='r', label='estimado')\n",
        "plt.xlabel('Cantidad de habitaciones')\n",
        "plt.ylabel('Valor Medio (miles de USD)')\n",
        "plt.legend()\n",
        "plt.show()"
      ],
      "execution_count": null,
      "outputs": [
        {
          "output_type": "display_data",
          "data": {
            "image/png": "[encoded data removed]",
            "text/plain": [
              "<Figure size 432x288 with 1 Axes>"
            ]
          },
          "metadata": {
            "tags": [],
            "needs_background": "light"
          }
        }
      ]
    },
    {
      "cell_type": "code",
      "metadata": {
        "id": "AJ5bmKJGdTY7"
      },
      "source": [
        "ss_fit = np.sum(np.power(y_1 - y_1_hat, 2))"
      ],
      "execution_count": null,
      "outputs": []
    },
    {
      "cell_type": "code",
      "metadata": {
        "id": "YgLEfEgKeUmB"
      },
      "source": [
        "ss_mean = np.sum(np.power(y_1 - y_1.mean(), 2))"
      ],
      "execution_count": null,
      "outputs": []
    },
    {
      "cell_type": "code",
      "metadata": {
        "id": "CHLcceZzeiJz"
      },
      "source": [
        "r_2 = (ss_mean - ss_fit) / ss_mean"
      ],
      "execution_count": null,
      "outputs": []
    },
    {
      "cell_type": "code",
      "metadata": {
        "id": "to7XuH3UesUB",
        "outputId": "2275d82b-7adf-405e-d68c-847a4aba156f",
        "colab": {
          "base_uri": "https://localhost:8080/",
          "height": 34
        }
      },
      "source": [
        "r_2"
      ],
      "execution_count": null,
      "outputs": [
        {
          "output_type": "execute_result",
          "data": {
            "text/plain": [
              "0.7165734030076696"
            ]
          },
          "metadata": {
            "tags": []
          },
          "execution_count": 136
        }
      ]
    },
    {
      "cell_type": "code",
      "metadata": {
        "id": "Uu-QHC7veyJZ"
      },
      "source": [
        "def linear_regression(X, y):\n",
        "  X = np.column_stack((np.ones_like(X[:,0]), X))\n",
        "\n",
        "  betas = np.linalg.inv(X.T.dot(X)).dot(X.T).dot(y)\n",
        "  y_hat = X.dot(betas)\n",
        "\n",
        "  print('Coeficientes: ', betas)\n",
        "\n",
        "  ss_fit = np.sum(np.power(y - y_hat, 2))\n",
        "  ss_mean = np.sum(np.power(y - y.mean(), 2))\n",
        "  r_2 = (ss_mean - ss_fit) / ss_mean\n",
        "\n",
        "  print('R^2: ', (r_2*100))"
      ],
      "execution_count": null,
      "outputs": []
    },
    {
      "cell_type": "code",
      "metadata": {
        "id": "0EVWDKTRgjgf",
        "outputId": "72658f1a-de88-4e48-cab7-d1b119ef4cda",
        "colab": {
          "base_uri": "https://localhost:8080/",
          "height": 51
        }
      },
      "source": [
        "linear_regression(X[:,5], y)"
      ],
      "execution_count": null,
      "outputs": [
        {
          "output_type": "stream",
          "text": [
            "Coeficientes:  [-34.67062078   9.10210898]\n",
            "R^2:  48.352545599133414\n"
          ],
          "name": "stdout"
        }
      ]
    },
    {
      "cell_type": "code",
      "metadata": {
        "id": "I8b3Y2SphPJL",
        "outputId": "1f2bbbba-36ab-42cf-d663-7daca98020b0",
        "colab": {
          "base_uri": "https://localhost:8080/",
          "height": 102
        }
      },
      "source": [
        "linear_regression(X, y)"
      ],
      "execution_count": null,
      "outputs": [
        {
          "output_type": "stream",
          "text": [
            "Coeficientes:  [ 3.64594884e+01 -1.08011358e-01  4.64204584e-02  2.05586264e-02\n",
            "  2.68673382e+00 -1.77666112e+01  3.80986521e+00  6.92224640e-04\n",
            " -1.47556685e+00  3.06049479e-01 -1.23345939e-02 -9.52747232e-01\n",
            "  9.31168327e-03 -5.24758378e-01]\n",
            "R^2:  74.06426641094095\n"
          ],
          "name": "stdout"
        }
      ]
    },
    {
      "cell_type": "code",
      "metadata": {
        "id": "WrhwhHMEpRSv"
      },
      "source": [
        ""
      ],
      "execution_count": null,
      "outputs": []
    }
  ]
}